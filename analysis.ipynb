{
 "cells": [
  {
   "cell_type": "code",
   "execution_count": 2,
   "id": "bb3511be",
   "metadata": {},
   "outputs": [],
   "source": [
    "import pandas as pd"
   ]
  },
  {
   "cell_type": "code",
   "execution_count": 22,
   "id": "4e4884aa",
   "metadata": {},
   "outputs": [],
   "source": [
    "dataset_files = {\n",
    "    'basic_drugs_formulary': 'basic drugs formulary file  20220831.zip',\n",
    "    'beneficiary_cost': 'beneficiary cost file  20220831.zip',\n",
    "    'excluded_drugs_formulary': 'excluded drugs formulary file  20220831.zip',\n",
    "    'partial_gap_coverage': 'partial gap coverage file  20220831.zip',\n",
    "    'geographic_locator': 'geographic locator file  20220831.zip',\n",
    "    'indication_based_coverage_formulary': 'indication based coverage formulary file  20220831.zip',\n",
    "    'plan_information': 'plan information  20220831.zip',\n",
    "    'pharmacy_networks': [\n",
    "        'pharmacy networks file  20220831 part 1.zip',\n",
    "        'pharmacy networks file  20220831 part 2.zip',\n",
    "        'pharmacy networks file  20220831 part 3.zip',\n",
    "        'pharmacy networks file  20220831 part 4.zip',\n",
    "        'pharmacy networks file  20220831 part 5.zip',\n",
    "        'pharmacy networks file  20220831 part 6.zip'\n",
    "    ]\n",
    "}\n",
    "\n",
    "datasets = {}"
   ]
  },
  {
   "cell_type": "code",
   "execution_count": null,
   "id": "b9a073c1",
   "metadata": {},
   "outputs": [
    {
     "name": "stderr",
     "output_type": "stream",
     "text": [
      "/var/folders/8r/74mwhhfs0j92ktwy608g501r0000gn/T/ipykernel_70140/408225095.py:5: DtypeWarning: Columns (4) have mixed types. Specify dtype option on import or set low_memory=False.\n",
      "  datasets[d] = pd.read_csv(f[0], sep='|', compression='zip')\n",
      "/var/folders/8r/74mwhhfs0j92ktwy608g501r0000gn/T/ipykernel_70140/408225095.py:7: DtypeWarning: Columns (4) have mixed types. Specify dtype option on import or set low_memory=False.\n",
      "  file_ref = pd.read_csv(file, sep='|', compression='zip')\n",
      "/var/folders/8r/74mwhhfs0j92ktwy608g501r0000gn/T/ipykernel_70140/408225095.py:7: DtypeWarning: Columns (4) have mixed types. Specify dtype option on import or set low_memory=False.\n",
      "  file_ref = pd.read_csv(file, sep='|', compression='zip')\n"
     ]
    }
   ],
   "source": [
    "datasets = {}\n",
    "for d, f in dataset_files.items():\n",
    "    try:\n",
    "        if isinstance(f, list) and len(f) > 0:\n",
    "            datasets[d] = pd.read_csv(f[0], sep='|', compression='zip')\n",
    "            for file in f[1:-1]:\n",
    "                file_ref = pd.read_csv(file, sep='|', compression='zip')\n",
    "                datasets[d] = pd.concat([datasets[d], file_ref])\n",
    "        else:\n",
    "            datasets[d] = pd.read_csv(f, sep='|', compression='zip')\n",
    "    except Exception as e:\n",
    "        print(f\"Unable to load file {f} due to exception {e}\")"
   ]
  },
  {
   "cell_type": "code",
   "execution_count": 20,
   "id": "5a16cda7",
   "metadata": {},
   "outputs": [],
   "source": [
    "ltcp = datasets['pharmacy_networks'][(datasets['pharmacy_networks']['PHARMACY_RETAIL'] == 'N') & (datasets['pharmacy_networks']['PHARMACY_MAIL'] == 'N')]"
   ]
  },
  {
   "cell_type": "code",
   "execution_count": 21,
   "id": "f4f12a56",
   "metadata": {},
   "outputs": [
    {
     "data": {
      "text/html": [
       "<div>\n",
       "<style scoped>\n",
       "    .dataframe tbody tr th:only-of-type {\n",
       "        vertical-align: middle;\n",
       "    }\n",
       "\n",
       "    .dataframe tbody tr th {\n",
       "        vertical-align: top;\n",
       "    }\n",
       "\n",
       "    .dataframe thead th {\n",
       "        text-align: right;\n",
       "    }\n",
       "</style>\n",
       "<table border=\"1\" class=\"dataframe\">\n",
       "  <thead>\n",
       "    <tr style=\"text-align: right;\">\n",
       "      <th></th>\n",
       "      <th>CONTRACT_ID</th>\n",
       "      <th>PLAN_ID</th>\n",
       "      <th>SEGMENT_ID</th>\n",
       "      <th>PHARMACY_NUMBER</th>\n",
       "      <th>PHARMACY_ZIPCODE</th>\n",
       "      <th>PREFERRED_STATUS_RETAIL</th>\n",
       "      <th>PREFERRED_STATUS_MAIL</th>\n",
       "      <th>PHARMACY_RETAIL</th>\n",
       "      <th>PHARMACY_MAIL</th>\n",
       "      <th>IN_AREA_FLAG</th>\n",
       "      <th>BRAND_DISPENSING_FEE_30</th>\n",
       "      <th>BRAND_DISPENSING_FEE_60</th>\n",
       "      <th>BRAND_DISPENSING_FEE_90</th>\n",
       "      <th>GENERIC_DISPENSING_FEE_30</th>\n",
       "      <th>GENERIC_DISPENSING_FEE_60</th>\n",
       "      <th>GENERIC_DISPENSING_FEE_90</th>\n",
       "    </tr>\n",
       "  </thead>\n",
       "  <tbody>\n",
       "  </tbody>\n",
       "</table>\n",
       "</div>"
      ],
      "text/plain": [
       "Empty DataFrame\n",
       "Columns: [CONTRACT_ID, PLAN_ID, SEGMENT_ID, PHARMACY_NUMBER, PHARMACY_ZIPCODE, PREFERRED_STATUS_RETAIL, PREFERRED_STATUS_MAIL, PHARMACY_RETAIL, PHARMACY_MAIL, IN_AREA_FLAG, BRAND_DISPENSING_FEE_30, BRAND_DISPENSING_FEE_60, BRAND_DISPENSING_FEE_90, GENERIC_DISPENSING_FEE_30, GENERIC_DISPENSING_FEE_60, GENERIC_DISPENSING_FEE_90]\n",
       "Index: []"
      ]
     },
     "execution_count": 21,
     "metadata": {},
     "output_type": "execute_result"
    }
   ],
   "source": [
    "ltcp.head()"
   ]
  },
  {
   "cell_type": "code",
   "execution_count": null,
   "id": "7c31d12e",
   "metadata": {},
   "outputs": [],
   "source": []
  }
 ],
 "metadata": {
  "kernelspec": {
   "display_name": "Python 3 (ipykernel)",
   "language": "python",
   "name": "python3"
  },
  "language_info": {
   "codemirror_mode": {
    "name": "ipython",
    "version": 3
   },
   "file_extension": ".py",
   "mimetype": "text/x-python",
   "name": "python",
   "nbconvert_exporter": "python",
   "pygments_lexer": "ipython3",
   "version": "3.8.9"
  }
 },
 "nbformat": 4,
 "nbformat_minor": 5
}
